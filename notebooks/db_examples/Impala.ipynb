{
 "cells": [
  {
   "cell_type": "markdown",
   "metadata": {
    "collapsed": true,
    "pycharm": {
     "name": "#%% md\n"
    }
   },
   "source": [
    "# Impala"
   ]
  },
  {
   "cell_type": "markdown",
   "metadata": {},
   "source": [
    "使用 Impala 模块需要有配置文件，该文件存放所连接数据的信息，例如 `project.yaml` 为我们项目的配置文件，其数据库信息部分内容如下:"
   ]
  },
  {
   "cell_type": "markdown",
   "metadata": {},
   "source": [
    "```yaml\n",
    "databases:\n",
    "    impala:\n",
    "        host: 1.1.1.1\n",
    "        port: 12345\n",
    "        user: yumingmin\n",
    "        password: yumingmin\n",
    "        auth_mechanism: PLAIN\n",
    "\n",
    "    hive:\n",
    "        host: 1.1.1.2\n",
    "        port: 12345\n",
    "        user: yumingmin\n",
    "        password: yumingmin\n",
    "        auth_mechanism: PLAIN\n",
    "```"
   ]
  },
  {
   "cell_type": "code",
   "execution_count": 5,
   "metadata": {},
   "outputs": [],
   "source": [
    "# 加载配置文件\n",
    "import yaml\n",
    "\n",
    "with open(\"../project.yaml\", \"r\") as f:\n",
    "    config = yaml.load(f.read(), Loader=yaml.FullLoader)"
   ]
  },
  {
   "cell_type": "markdown",
   "metadata": {},
   "source": [
    "> 我们不推荐 settings.py 文件来定义项目配置信息，主要原因是在工程目录上导入 py 文件中的变量经常出现问题，不推荐新手进行使用。\n",
    "\n",
    "> 这里推荐 `project.yaml` 或者 `project.cfg` 文件类型来存储配置信息"
   ]
  },
  {
   "cell_type": "markdown",
   "metadata": {},
   "source": [
    "## 执行单个 SQL"
   ]
  },
  {
   "cell_type": "code",
   "execution_count": 7,
   "metadata": {},
   "outputs": [],
   "source": [
    "from mumu.db import ImpalaRunner"
   ]
  },
  {
   "cell_type": "code",
   "execution_count": 6,
   "metadata": {},
   "outputs": [
    {
     "name": "stderr",
     "output_type": "stream",
     "text": [
      "INFO:root:Starting run sql:\n",
      " \u001b[1;34mSELECT * FROM test.ddd_211015 LIMIT 10\u001b[0m \n",
      "\n",
      "Loading: 100%|\u001b[32m██████████\u001b[0m| 100/100 [00:00<00:00, 209.92it/s]\n",
      "INFO:impala.hiveserver2:Closing active operation\n",
      "INFO:root:cost time: \u001b[0;32m2.765\u001b[0m seconds\n"
     ]
    },
    {
     "data": {
      "text/html": [
       "<div>\n",
       "<style scoped>\n",
       "    .dataframe tbody tr th:only-of-type {\n",
       "        vertical-align: middle;\n",
       "    }\n",
       "\n",
       "    .dataframe tbody tr th {\n",
       "        vertical-align: top;\n",
       "    }\n",
       "\n",
       "    .dataframe thead th {\n",
       "        text-align: right;\n",
       "    }\n",
       "</style>\n",
       "<table border=\"1\" class=\"dataframe\">\n",
       "  <thead>\n",
       "    <tr style=\"text-align: right;\">\n",
       "      <th></th>\n",
       "      <th>owner_id</th>\n",
       "      <th>dun_case_id</th>\n",
       "      <th>call_time</th>\n",
       "    </tr>\n",
       "  </thead>\n",
       "  <tbody>\n",
       "    <tr>\n",
       "      <th>0</th>\n",
       "      <td>a</td>\n",
       "      <td>a1</td>\n",
       "      <td>1</td>\n",
       "    </tr>\n",
       "    <tr>\n",
       "      <th>1</th>\n",
       "      <td>a</td>\n",
       "      <td>a1</td>\n",
       "      <td>2</td>\n",
       "    </tr>\n",
       "    <tr>\n",
       "      <th>2</th>\n",
       "      <td>a</td>\n",
       "      <td>a1</td>\n",
       "      <td>3</td>\n",
       "    </tr>\n",
       "    <tr>\n",
       "      <th>3</th>\n",
       "      <td>a</td>\n",
       "      <td>a2</td>\n",
       "      <td>4</td>\n",
       "    </tr>\n",
       "    <tr>\n",
       "      <th>4</th>\n",
       "      <td>a</td>\n",
       "      <td>a2</td>\n",
       "      <td>5</td>\n",
       "    </tr>\n",
       "  </tbody>\n",
       "</table>\n",
       "</div>"
      ],
      "text/plain": [
       "  owner_id dun_case_id  call_time\n",
       "0        a          a1          1\n",
       "1        a          a1          2\n",
       "2        a          a1          3\n",
       "3        a          a2          4\n",
       "4        a          a2          5"
      ]
     },
     "execution_count": 6,
     "metadata": {},
     "output_type": "execute_result"
    }
   ],
   "source": [
    "query = \"\"\"SELECT * FROM test.ddd_211015 LIMIT 10\"\"\"\n",
    "runner = ImpalaRunner(config=config['databases']['impala'], sql=query)\n",
    "df = runner.run_sql_block()\n",
    "df.head()"
   ]
  },
  {
   "cell_type": "code",
   "execution_count": 8,
   "metadata": {},
   "outputs": [
    {
     "name": "stderr",
     "output_type": "stream",
     "text": [
      "INFO:root:Starting run sql:\n",
      " \u001b[1;34mSELECT * FROM test.ddd_211015 LIMIT 10\u001b[0m \n",
      "\n",
      "Loading: 100%|\u001b[32m██████████\u001b[0m| 100/100 [00:00<00:00, 5215.82it/s]\n",
      "INFO:impala.hiveserver2:Closing active operation\n",
      "INFO:root:cost time: \u001b[0;32m2.33\u001b[0m seconds\n",
      "INFO:root:DB connection has been closed!\n"
     ]
    },
    {
     "data": {
      "text/html": [
       "<div>\n",
       "<style scoped>\n",
       "    .dataframe tbody tr th:only-of-type {\n",
       "        vertical-align: middle;\n",
       "    }\n",
       "\n",
       "    .dataframe tbody tr th {\n",
       "        vertical-align: top;\n",
       "    }\n",
       "\n",
       "    .dataframe thead th {\n",
       "        text-align: right;\n",
       "    }\n",
       "</style>\n",
       "<table border=\"1\" class=\"dataframe\">\n",
       "  <thead>\n",
       "    <tr style=\"text-align: right;\">\n",
       "      <th></th>\n",
       "      <th>owner_id</th>\n",
       "      <th>dun_case_id</th>\n",
       "      <th>call_time</th>\n",
       "    </tr>\n",
       "  </thead>\n",
       "  <tbody>\n",
       "    <tr>\n",
       "      <th>0</th>\n",
       "      <td>a</td>\n",
       "      <td>a1</td>\n",
       "      <td>1</td>\n",
       "    </tr>\n",
       "    <tr>\n",
       "      <th>1</th>\n",
       "      <td>a</td>\n",
       "      <td>a1</td>\n",
       "      <td>2</td>\n",
       "    </tr>\n",
       "    <tr>\n",
       "      <th>2</th>\n",
       "      <td>a</td>\n",
       "      <td>a1</td>\n",
       "      <td>3</td>\n",
       "    </tr>\n",
       "    <tr>\n",
       "      <th>3</th>\n",
       "      <td>a</td>\n",
       "      <td>a2</td>\n",
       "      <td>4</td>\n",
       "    </tr>\n",
       "    <tr>\n",
       "      <th>4</th>\n",
       "      <td>a</td>\n",
       "      <td>a2</td>\n",
       "      <td>5</td>\n",
       "    </tr>\n",
       "  </tbody>\n",
       "</table>\n",
       "</div>"
      ],
      "text/plain": [
       "  owner_id dun_case_id  call_time\n",
       "0        a          a1          1\n",
       "1        a          a1          2\n",
       "2        a          a1          3\n",
       "3        a          a2          4\n",
       "4        a          a2          5"
      ]
     },
     "execution_count": 8,
     "metadata": {},
     "output_type": "execute_result"
    }
   ],
   "source": [
    "query = \"\"\"SELECT * FROM test.ddd_211015 LIMIT 10\"\"\"\n",
    "\n",
    "with ImpalaRunner(config=config['databases'][\"impala\"], sql=query) as runner:\n",
    "    df = runner.run_sql_block()\n",
    "\n",
    "df.head()"
   ]
  },
  {
   "cell_type": "markdown",
   "metadata": {},
   "source": [
    "## 格式化SQL参数"
   ]
  },
  {
   "cell_type": "markdown",
   "metadata": {},
   "source": [
    "通常 SQL 中会带有一定的参数，比如 Impala 中可以使用 `$`, mumu 也支持这样的功能。示例代码如下："
   ]
  },
  {
   "cell_type": "code",
   "execution_count": 10,
   "metadata": {},
   "outputs": [
    {
     "name": "stderr",
     "output_type": "stream",
     "text": [
      "INFO:root:Starting run sql:\n",
      " \u001b[1;34mSELECT * FROM test.ddd_211015 WHERE 1=1 AND owner_id='b' LIMIT 10\u001b[0m \n",
      "\n",
      "Loading: 100%|\u001b[32m██████████\u001b[0m| 100/100 [00:00<00:00, 1216.84it/s]\n",
      "INFO:impala.hiveserver2:Closing active operation\n",
      "INFO:root:cost time: \u001b[0;32m2.199\u001b[0m seconds\n",
      "INFO:root:DB connection has been closed!\n"
     ]
    },
    {
     "data": {
      "text/html": [
       "<div>\n",
       "<style scoped>\n",
       "    .dataframe tbody tr th:only-of-type {\n",
       "        vertical-align: middle;\n",
       "    }\n",
       "\n",
       "    .dataframe tbody tr th {\n",
       "        vertical-align: top;\n",
       "    }\n",
       "\n",
       "    .dataframe thead th {\n",
       "        text-align: right;\n",
       "    }\n",
       "</style>\n",
       "<table border=\"1\" class=\"dataframe\">\n",
       "  <thead>\n",
       "    <tr style=\"text-align: right;\">\n",
       "      <th></th>\n",
       "      <th>owner_id</th>\n",
       "      <th>dun_case_id</th>\n",
       "      <th>call_time</th>\n",
       "    </tr>\n",
       "  </thead>\n",
       "  <tbody>\n",
       "    <tr>\n",
       "      <th>0</th>\n",
       "      <td>b</td>\n",
       "      <td>b1</td>\n",
       "      <td>1</td>\n",
       "    </tr>\n",
       "    <tr>\n",
       "      <th>1</th>\n",
       "      <td>b</td>\n",
       "      <td>b1</td>\n",
       "      <td>2</td>\n",
       "    </tr>\n",
       "    <tr>\n",
       "      <th>2</th>\n",
       "      <td>b</td>\n",
       "      <td>b2</td>\n",
       "      <td>3</td>\n",
       "    </tr>\n",
       "    <tr>\n",
       "      <th>3</th>\n",
       "      <td>b</td>\n",
       "      <td>b2</td>\n",
       "      <td>4</td>\n",
       "    </tr>\n",
       "    <tr>\n",
       "      <th>4</th>\n",
       "      <td>b</td>\n",
       "      <td>b2</td>\n",
       "      <td>5</td>\n",
       "    </tr>\n",
       "  </tbody>\n",
       "</table>\n",
       "</div>"
      ],
      "text/plain": [
       "  owner_id dun_case_id  call_time\n",
       "0        b          b1          1\n",
       "1        b          b1          2\n",
       "2        b          b2          3\n",
       "3        b          b2          4\n",
       "4        b          b2          5"
      ]
     },
     "execution_count": 10,
     "metadata": {},
     "output_type": "execute_result"
    }
   ],
   "source": [
    "query = \"SELECT * FROM test.ddd_211015 WHERE 1=1 AND owner_id='${owner_id}' LIMIT 10\"\n",
    "context = {\"owner_id\": \"b\"}\n",
    "with ImpalaRunner(config=config['databases']['impala'], sql=query, context=context) as runner:\n",
    "    df = runner.run_sql_block()\n",
    "\n",
    "df.head()"
   ]
  },
  {
   "cell_type": "markdown",
   "metadata": {},
   "source": [
    "## 不显示进度条"
   ]
  },
  {
   "cell_type": "markdown",
   "metadata": {},
   "source": [
    "使用 `verbose` 参数可以控制是否显示进度条，默认是打开的，设为 `False` 则关闭进度条显示。"
   ]
  },
  {
   "cell_type": "code",
   "execution_count": 11,
   "metadata": {},
   "outputs": [
    {
     "name": "stderr",
     "output_type": "stream",
     "text": [
      "INFO:root:Starting run sql:\n",
      " \u001b[1;34mSELECT * FROM test.ddd_211015 WHERE 1=1 AND owner_id='b' LIMIT 10\u001b[0m \n",
      "\n",
      "INFO:impala.hiveserver2:Closing active operation\n",
      "INFO:root:cost time: \u001b[0;32m0.143\u001b[0m seconds\n",
      "INFO:root:DB connection has been closed!\n"
     ]
    },
    {
     "data": {
      "text/html": [
       "<div>\n",
       "<style scoped>\n",
       "    .dataframe tbody tr th:only-of-type {\n",
       "        vertical-align: middle;\n",
       "    }\n",
       "\n",
       "    .dataframe tbody tr th {\n",
       "        vertical-align: top;\n",
       "    }\n",
       "\n",
       "    .dataframe thead th {\n",
       "        text-align: right;\n",
       "    }\n",
       "</style>\n",
       "<table border=\"1\" class=\"dataframe\">\n",
       "  <thead>\n",
       "    <tr style=\"text-align: right;\">\n",
       "      <th></th>\n",
       "      <th>owner_id</th>\n",
       "      <th>dun_case_id</th>\n",
       "      <th>call_time</th>\n",
       "    </tr>\n",
       "  </thead>\n",
       "  <tbody>\n",
       "    <tr>\n",
       "      <th>0</th>\n",
       "      <td>b</td>\n",
       "      <td>b1</td>\n",
       "      <td>1</td>\n",
       "    </tr>\n",
       "    <tr>\n",
       "      <th>1</th>\n",
       "      <td>b</td>\n",
       "      <td>b1</td>\n",
       "      <td>2</td>\n",
       "    </tr>\n",
       "    <tr>\n",
       "      <th>2</th>\n",
       "      <td>b</td>\n",
       "      <td>b2</td>\n",
       "      <td>3</td>\n",
       "    </tr>\n",
       "    <tr>\n",
       "      <th>3</th>\n",
       "      <td>b</td>\n",
       "      <td>b2</td>\n",
       "      <td>4</td>\n",
       "    </tr>\n",
       "    <tr>\n",
       "      <th>4</th>\n",
       "      <td>b</td>\n",
       "      <td>b2</td>\n",
       "      <td>5</td>\n",
       "    </tr>\n",
       "  </tbody>\n",
       "</table>\n",
       "</div>"
      ],
      "text/plain": [
       "  owner_id dun_case_id  call_time\n",
       "0        b          b1          1\n",
       "1        b          b1          2\n",
       "2        b          b2          3\n",
       "3        b          b2          4\n",
       "4        b          b2          5"
      ]
     },
     "execution_count": 11,
     "metadata": {},
     "output_type": "execute_result"
    }
   ],
   "source": [
    "query = \"SELECT * FROM test.ddd_211015 WHERE 1=1 AND owner_id='${owner_id}' LIMIT 10\"\n",
    "context = {\"owner_id\": \"b\"}\n",
    "with ImpalaRunner(config=config['databases']['impala'], sql=query, context=context, verbose=False) as runner:\n",
    "    df = runner.run_sql_block()\n",
    "\n",
    "df.head()"
   ]
  },
  {
   "cell_type": "markdown",
   "metadata": {},
   "source": [
    "## 设置重跑次数，以及间隔时间"
   ]
  },
  {
   "cell_type": "markdown",
   "metadata": {},
   "source": [
    "可以使用 `retry_times` 和 `sleep_time` 来设置失败重跑次数，以及重跑的间隔"
   ]
  },
  {
   "cell_type": "code",
   "execution_count": null,
   "metadata": {},
   "outputs": [],
   "source": [
    "query = \"SELECT * FROM test.ddd_211015 WHERE 1=1 AND owner_id='${owner_id}' LIMIT 10\"\n",
    "context = {\"owner_id\": \"b\"}\n",
    "with ImpalaRunner(config=config['databases']['impala'], sql=query, context=context, \n",
    "                verbose=False, retry_times=5, sleep_time=120) as runner:\n",
    "    df = runner.run_sql_block()\n",
    "\n",
    "df.head()"
   ]
  },
  {
   "cell_type": "markdown",
   "metadata": {},
   "source": [
    "## 读取 SQL 文件，并执行指定 SQL 段落"
   ]
  },
  {
   "cell_type": "markdown",
   "metadata": {},
   "source": [
    "将所有 SQL 存放在一个 SQL 文件中是工程上常用的一种操作，mumu 支持 SQL 段落的执行，并支持上述的所有功能"
   ]
  },
  {
   "cell_type": "code",
   "execution_count": 13,
   "metadata": {},
   "outputs": [
    {
     "name": "stderr",
     "output_type": "stream",
     "text": [
      "INFO:root:Starting run sql:\n",
      " \u001b[1;34m\n",
      "SELECT * FROM test.ddd_211015 WHERE 1=1 AND owner_id='b' LIMIT 10\n",
      "\u001b[0m \n",
      "\n",
      "INFO:impala.hiveserver2:Closing active operation\n",
      "INFO:root:cost time: \u001b[0;32m0.692\u001b[0m seconds\n",
      "INFO:root:Executed sql is null\n",
      "INFO:root:cost time: \u001b[0;32m0.178\u001b[0m seconds\n",
      "INFO:root:DB connection has been closed!\n"
     ]
    },
    {
     "data": {
      "text/html": [
       "<div>\n",
       "<style scoped>\n",
       "    .dataframe tbody tr th:only-of-type {\n",
       "        vertical-align: middle;\n",
       "    }\n",
       "\n",
       "    .dataframe tbody tr th {\n",
       "        vertical-align: top;\n",
       "    }\n",
       "\n",
       "    .dataframe thead th {\n",
       "        text-align: right;\n",
       "    }\n",
       "</style>\n",
       "<table border=\"1\" class=\"dataframe\">\n",
       "  <thead>\n",
       "    <tr style=\"text-align: right;\">\n",
       "      <th></th>\n",
       "      <th>owner_id</th>\n",
       "      <th>dun_case_id</th>\n",
       "      <th>call_time</th>\n",
       "    </tr>\n",
       "  </thead>\n",
       "  <tbody>\n",
       "    <tr>\n",
       "      <th>0</th>\n",
       "      <td>b</td>\n",
       "      <td>b1</td>\n",
       "      <td>1</td>\n",
       "    </tr>\n",
       "    <tr>\n",
       "      <th>1</th>\n",
       "      <td>b</td>\n",
       "      <td>b1</td>\n",
       "      <td>2</td>\n",
       "    </tr>\n",
       "    <tr>\n",
       "      <th>2</th>\n",
       "      <td>b</td>\n",
       "      <td>b2</td>\n",
       "      <td>3</td>\n",
       "    </tr>\n",
       "    <tr>\n",
       "      <th>3</th>\n",
       "      <td>b</td>\n",
       "      <td>b2</td>\n",
       "      <td>4</td>\n",
       "    </tr>\n",
       "    <tr>\n",
       "      <th>4</th>\n",
       "      <td>b</td>\n",
       "      <td>b2</td>\n",
       "      <td>5</td>\n",
       "    </tr>\n",
       "  </tbody>\n",
       "</table>\n",
       "</div>"
      ],
      "text/plain": [
       "  owner_id dun_case_id  call_time\n",
       "0        b          b1          1\n",
       "1        b          b1          2\n",
       "2        b          b2          3\n",
       "3        b          b2          4\n",
       "4        b          b2          5"
      ]
     },
     "execution_count": 13,
     "metadata": {},
     "output_type": "execute_result"
    }
   ],
   "source": [
    "context = {\"owner_id\": \"b\"}\n",
    "with ImpalaRunner(config=config['databases']['impala'],\n",
    "                filename=\"./sqls/run.sql\",\n",
    "                context=context,\n",
    "                verbose=False) as runner:\n",
    "    df = runner.run_sql_block(sql_name=\"sql1\")\n",
    "\n",
    "df.head()"
   ]
  },
  {
   "cell_type": "markdown",
   "metadata": {},
   "source": [
    "> 💡 如果不指定 SQL 文件中的段落 title，则会自上而下运行 SQL。"
   ]
  },
  {
   "cell_type": "code",
   "execution_count": 14,
   "metadata": {},
   "outputs": [
    {
     "name": "stderr",
     "output_type": "stream",
     "text": [
      "INFO:root:Starting run sql:\n",
      " \u001b[1;34m\n",
      "SELECT * FROM test.ddd_211015 WHERE 1=1 AND owner_id='b' LIMIT 10\n",
      "\u001b[0m \n",
      "\n",
      "INFO:impala.hiveserver2:Closing active operation\n",
      "INFO:root:cost time: \u001b[0;32m0.666\u001b[0m seconds\n",
      "INFO:root:Executed sql is null\n",
      "INFO:root:cost time: \u001b[0;32m0.017\u001b[0m seconds\n",
      "INFO:root:Starting run sql:\n",
      " \u001b[1;34m\n",
      "SELECT * FROM test.ddd_211015 WHERE 1=1 AND owner_id='b' LIMIT 5\n",
      "\u001b[0m \n",
      "\n",
      "INFO:impala.hiveserver2:Closing active operation\n",
      "INFO:root:cost time: \u001b[0;32m0.121\u001b[0m seconds\n",
      "INFO:root:Executed sql is null\n",
      "INFO:root:cost time: \u001b[0;32m0.021\u001b[0m seconds\n",
      "INFO:root:DB connection has been closed!\n"
     ]
    },
    {
     "data": {
      "text/html": [
       "<div>\n",
       "<style scoped>\n",
       "    .dataframe tbody tr th:only-of-type {\n",
       "        vertical-align: middle;\n",
       "    }\n",
       "\n",
       "    .dataframe tbody tr th {\n",
       "        vertical-align: top;\n",
       "    }\n",
       "\n",
       "    .dataframe thead th {\n",
       "        text-align: right;\n",
       "    }\n",
       "</style>\n",
       "<table border=\"1\" class=\"dataframe\">\n",
       "  <thead>\n",
       "    <tr style=\"text-align: right;\">\n",
       "      <th></th>\n",
       "      <th>owner_id</th>\n",
       "      <th>dun_case_id</th>\n",
       "      <th>call_time</th>\n",
       "    </tr>\n",
       "  </thead>\n",
       "  <tbody>\n",
       "    <tr>\n",
       "      <th>0</th>\n",
       "      <td>b</td>\n",
       "      <td>b1</td>\n",
       "      <td>1</td>\n",
       "    </tr>\n",
       "    <tr>\n",
       "      <th>1</th>\n",
       "      <td>b</td>\n",
       "      <td>b1</td>\n",
       "      <td>2</td>\n",
       "    </tr>\n",
       "    <tr>\n",
       "      <th>2</th>\n",
       "      <td>b</td>\n",
       "      <td>b2</td>\n",
       "      <td>3</td>\n",
       "    </tr>\n",
       "    <tr>\n",
       "      <th>3</th>\n",
       "      <td>b</td>\n",
       "      <td>b2</td>\n",
       "      <td>4</td>\n",
       "    </tr>\n",
       "    <tr>\n",
       "      <th>4</th>\n",
       "      <td>b</td>\n",
       "      <td>b2</td>\n",
       "      <td>5</td>\n",
       "    </tr>\n",
       "  </tbody>\n",
       "</table>\n",
       "</div>"
      ],
      "text/plain": [
       "  owner_id dun_case_id  call_time\n",
       "0        b          b1          1\n",
       "1        b          b1          2\n",
       "2        b          b2          3\n",
       "3        b          b2          4\n",
       "4        b          b2          5"
      ]
     },
     "execution_count": 14,
     "metadata": {},
     "output_type": "execute_result"
    }
   ],
   "source": [
    "context = {\"owner_id\": \"b\"}\n",
    "with ImpalaRunner(config=config['databases']['impala'],\n",
    "                filename=\"./sqls/run.sql\",\n",
    "                context=context,\n",
    "                verbose=False) as runner:\n",
    "    df = runner.run_sql_block()\n",
    "\n",
    "df.head()"
   ]
  }
 ],
 "metadata": {
  "interpreter": {
   "hash": "53d965b4d16c6bde27ee82f2600c470e5004f7d9fbc37b1901903816b6cbff46"
  },
  "kernelspec": {
   "display_name": "Python 3.7.9 64-bit ('base': conda)",
   "name": "python3"
  },
  "language_info": {
   "codemirror_mode": {
    "name": "ipython",
    "version": 3
   },
   "file_extension": ".py",
   "mimetype": "text/x-python",
   "name": "python",
   "nbconvert_exporter": "python",
   "pygments_lexer": "ipython3",
   "version": "3.7.9"
  },
  "pycharm": {
   "stem_cell": {
    "cell_type": "raw",
    "metadata": {
     "collapsed": false
    },
    "source": []
   }
  }
 },
 "nbformat": 4,
 "nbformat_minor": 0
}
