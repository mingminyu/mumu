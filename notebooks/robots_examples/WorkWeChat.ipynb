{
 "cells": [
  {
   "cell_type": "code",
   "execution_count": 7,
   "outputs": [],
   "source": [
    "import os\n",
    "import textwrap\n",
    "from mumu.conf import *\n",
    "from mumu.robots import *\n"
   ],
   "metadata": {
    "collapsed": false,
    "pycharm": {
     "name": "#%%\n",
     "is_executing": false
    }
   }
  },
  {
   "cell_type": "code",
   "execution_count": 8,
   "outputs": [
    {
     "name": "stdout",
     "text": [
      "{'msgtype': 'text', 'text': {'mentioned_mobile_list': ['@all'], 'content': '\\n    Hi，我是机器人test\\n    由郁明敏于2020年12月18日添加到群\\n    '}}\n"
     ],
     "output_type": "stream"
    },
    {
     "name": "stderr",
     "text": [
      "INFO:root:successful\n"
     ],
     "output_type": "stream"
    },
    {
     "data": {
      "text/plain": "True"
     },
     "metadata": {},
     "output_type": "execute_result",
     "execution_count": 8
    }
   ],
   "source": [
    "# send text messages and at_all\n",
    "content = \"\"\"\n",
    "    Hi，我是机器人test\n",
    "    由郁明敏于2020年12月18日添加到群\n",
    "    \"\"\"\n",
    "wwx_send_messages(key=WWX_CONF[\"key\"], at_all=True, content=content)"
   ],
   "metadata": {
    "collapsed": false,
    "pycharm": {
     "name": "#%%\n",
     "is_executing": false
    }
   }
  },
  {
   "cell_type": "code",
   "execution_count": 9,
   "outputs": [
    {
     "name": "stdout",
     "text": [
      "{'msgtype': 'text', 'text': {'mentioned_mobile_list': ['18301754008'], 'content': '\\n    Hi，我是机器人test2\\n    由郁明敏于2020年12月18日添加到群\\n    '}}\n"
     ],
     "output_type": "stream"
    },
    {
     "name": "stderr",
     "text": [
      "INFO:root:successful\n"
     ],
     "output_type": "stream"
    },
    {
     "data": {
      "text/plain": "True"
     },
     "metadata": {},
     "output_type": "execute_result",
     "execution_count": 9
    }
   ],
   "source": [
    "content = \"\"\"\n",
    "    Hi，我是机器人test2\n",
    "    由郁明敏于2020年12月18日添加到群\n",
    "    \"\"\"\n",
    "wwx_send_messages(key=WWX_CONF[\"key\"], content=content, mentioned_mobile_list=WWX_CONF[\"at\"])\n"
   ],
   "metadata": {
    "collapsed": false,
    "pycharm": {
     "name": "#%%\n",
     "is_executing": false
    }
   }
  },
  {
   "cell_type": "code",
   "execution_count": 10,
   "outputs": [
    {
     "name": "stderr",
     "text": [
      "INFO:root:successful\n"
     ],
     "output_type": "stream"
    },
    {
     "data": {
      "text/plain": "True"
     },
     "metadata": {},
     "output_type": "execute_result",
     "execution_count": 10
    }
   ],
   "source": [
    "# send markdown messages\n",
    "content = '''实时新增用户反馈<font color=\\\"warning\\\">132例</font>，请相关同事注意。\\n\n",
    "         > 类型:<font color=\\\"comment\\\">用户反馈</font>\n",
    "         > 普通用户反馈:<font color=\\\"comment\\\">117例</font>\n",
    "         > VIP用户反馈:<font color=\\\"comment\\\">15例</font>\"\n",
    "\n",
    "         # h1\n",
    "         ## h2\n",
    "\n",
    "         <font color=\"info\">绿色</font>\n",
    "         <font color=\"comment\">灰色</font>\n",
    "         <font color=\"warning\">橙红色</font>\n",
    "\n",
    "         `code`     **bold**\n",
    "\n",
    "         [click to browser](http://work.weixin.qq.com/api/doc)\n",
    "        '''\n",
    "wwx_send_messages_md(key=WWX_CONF[\"key\"], content=textwrap.dedent(content))"
   ],
   "metadata": {
    "collapsed": false,
    "pycharm": {
     "name": "#%%\n",
     "is_executing": false
    }
   }
  },
  {
   "cell_type": "code",
   "execution_count": 12,
   "outputs": [
    {
     "name": "stderr",
     "text": [
      "INFO:root:successful\n"
     ],
     "output_type": "stream"
    },
    {
     "data": {
      "text/plain": "True"
     },
     "metadata": {},
     "output_type": "execute_result",
     "execution_count": 12
    }
   ],
   "source": [
    "# send image\n",
    "img = os.path.join(os.getcwd(), \"zoro.jpg\")\n",
    "wwx_send_image(key=WWX_CONF[\"key\"], image=img)\n",
    "\n"
   ],
   "metadata": {
    "collapsed": false,
    "pycharm": {
     "name": "#%%\n",
     "is_executing": false
    }
   }
  },
  {
   "cell_type": "code",
   "execution_count": 13,
   "outputs": [
    {
     "name": "stderr",
     "text": [
      "INFO:root:successful\n"
     ],
     "output_type": "stream"
    },
    {
     "data": {
      "text/plain": "True"
     },
     "metadata": {},
     "output_type": "execute_result",
     "execution_count": 13
    }
   ],
   "source": [
    "# send articles\n",
    "articles = [\n",
    "        {\n",
    "           \"title\": \"中秋节礼品领取\",\n",
    "           \"description\": \"今年中秋节公司有豪礼相送\",\n",
    "           \"url\": \"www.qq.com\",\n",
    "           \"picurl\": \"https://img2.baidu.com/it/u=3566088443,3713209594&fm=26&fmt=auto&gp=0.jpg\"\n",
    "        },\n",
    "        {\n",
    "           \"title\": \"中秋节礼品领取2\",\n",
    "           \"description\": \"今年中秋节公司有豪礼相送\",\n",
    "           \"url\": \"www.qq.com\",\n",
    "           \"picurl\": \"https://img2.baidu.com/it/u=3566088443,3713209594&fm=26&fmt=auto&gp=0.jpg\"\n",
    "        },\n",
    "    ]\n",
    "wwx_send_news(key=WWX_CONF[\"key\"], articles=articles)\n"
   ],
   "metadata": {
    "collapsed": false,
    "pycharm": {
     "name": "#%%\n",
     "is_executing": false
    }
   }
  },
  {
   "cell_type": "code",
   "execution_count": 14,
   "outputs": [
    {
     "name": "stderr",
     "text": [
      "INFO:root:successful\n"
     ],
     "output_type": "stream"
    },
    {
     "data": {
      "text/plain": "True"
     },
     "metadata": {},
     "output_type": "execute_result",
     "execution_count": 14
    }
   ],
   "source": [
    "# send a file\n",
    "img = os.path.join(os.getcwd(), \"zoro.jpg\")\n",
    "wwx_send_file(key=WWX_CONF[\"key\"], file=img)"
   ],
   "metadata": {
    "collapsed": false,
    "pycharm": {
     "name": "#%%\n",
     "is_executing": false
    }
   }
  }
 ],
 "metadata": {
  "language_info": {
   "codemirror_mode": {
    "name": "ipython",
    "version": 2
   },
   "file_extension": ".py",
   "mimetype": "text/x-python",
   "name": "python",
   "nbconvert_exporter": "python",
   "pygments_lexer": "ipython2",
   "version": "2.7.6"
  },
  "kernelspec": {
   "name": "python3",
   "language": "python",
   "display_name": "Python 3"
  },
  "pycharm": {
   "stem_cell": {
    "cell_type": "raw",
    "source": [],
    "metadata": {
     "collapsed": false
    }
   }
  }
 },
 "nbformat": 4,
 "nbformat_minor": 0
}